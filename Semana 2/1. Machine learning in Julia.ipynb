{
 "cells": [
  {
   "cell_type": "markdown",
   "id": "65c50845",
   "metadata": {},
   "source": [
    "# Machine Learning en Julia\n",
    "\n",
    "El objetivo de ésta semana es el de tratar el area del machine learning en Julia, ver sus metodos, ventajas y posibles dificultades,se evaluará en particular el rendimiento de los modelos y buscamos construir un panorama general."
   ]
  },
  {
   "cell_type": "code",
   "execution_count": 1,
   "id": "a59ada9d",
   "metadata": {},
   "outputs": [],
   "source": [
    "#Importando librerías\n",
    "include(\"extras.jl\") # Script propio, importado externamente\n",
    "using CSV,DataFrames,Random,Statistics,BenchmarkTools\n",
    "using .extras"
   ]
  },
  {
   "cell_type": "markdown",
   "id": "d67bd41d",
   "metadata": {},
   "source": [
    "### Importando datos y preparandolos."
   ]
  },
  {
   "cell_type": "code",
   "execution_count": 2,
   "id": "8ffd28a9",
   "metadata": {},
   "outputs": [
    {
     "data": {
      "text/html": [
       "<div class=\"data-frame\"><p>8 rows × 16 columns (omitted printing of 9 columns)</p><table class=\"data-frame\"><thead><tr><th></th><th>Gender</th><th>Age</th><th>Debt</th><th>Married</th><th>BankCustomer</th><th>Industry</th><th>Ethnicity</th></tr><tr><th></th><th title=\"Int64\">Int64</th><th title=\"Float64\">Float64</th><th title=\"Float64\">Float64</th><th title=\"Int64\">Int64</th><th title=\"Int64\">Int64</th><th title=\"String31\">String31</th><th title=\"String7\">String7</th></tr></thead><tbody><tr><th>1</th><td>1</td><td>30.83</td><td>0.0</td><td>1</td><td>1</td><td>Industrials</td><td>White</td></tr><tr><th>2</th><td>0</td><td>58.67</td><td>4.46</td><td>1</td><td>1</td><td>Materials</td><td>Black</td></tr><tr><th>3</th><td>0</td><td>24.5</td><td>0.5</td><td>1</td><td>1</td><td>Materials</td><td>Black</td></tr><tr><th>4</th><td>1</td><td>27.83</td><td>1.54</td><td>1</td><td>1</td><td>Industrials</td><td>White</td></tr><tr><th>5</th><td>1</td><td>20.17</td><td>5.625</td><td>1</td><td>1</td><td>Industrials</td><td>White</td></tr><tr><th>6</th><td>1</td><td>32.08</td><td>4.0</td><td>1</td><td>1</td><td>CommunicationServices</td><td>White</td></tr><tr><th>7</th><td>1</td><td>33.17</td><td>1.04</td><td>1</td><td>1</td><td>Transport</td><td>Black</td></tr><tr><th>8</th><td>0</td><td>22.92</td><td>11.585</td><td>1</td><td>1</td><td>InformationTechnology</td><td>White</td></tr></tbody></table></div>"
      ],
      "text/latex": [
       "\\begin{tabular}{r|cccccccc}\n",
       "\t& Gender & Age & Debt & Married & BankCustomer & Industry & Ethnicity & \\\\\n",
       "\t\\hline\n",
       "\t& Int64 & Float64 & Float64 & Int64 & Int64 & String31 & String7 & \\\\\n",
       "\t\\hline\n",
       "\t1 & 1 & 30.83 & 0.0 & 1 & 1 & Industrials & White & $\\dots$ \\\\\n",
       "\t2 & 0 & 58.67 & 4.46 & 1 & 1 & Materials & Black & $\\dots$ \\\\\n",
       "\t3 & 0 & 24.5 & 0.5 & 1 & 1 & Materials & Black & $\\dots$ \\\\\n",
       "\t4 & 1 & 27.83 & 1.54 & 1 & 1 & Industrials & White & $\\dots$ \\\\\n",
       "\t5 & 1 & 20.17 & 5.625 & 1 & 1 & Industrials & White & $\\dots$ \\\\\n",
       "\t6 & 1 & 32.08 & 4.0 & 1 & 1 & CommunicationServices & White & $\\dots$ \\\\\n",
       "\t7 & 1 & 33.17 & 1.04 & 1 & 1 & Transport & Black & $\\dots$ \\\\\n",
       "\t8 & 0 & 22.92 & 11.585 & 1 & 1 & InformationTechnology & White & $\\dots$ \\\\\n",
       "\\end{tabular}\n"
      ],
      "text/plain": [
       "\u001b[1m8×16 DataFrame\u001b[0m\n",
       "\u001b[1m Row \u001b[0m│\u001b[1m Gender \u001b[0m\u001b[1m Age     \u001b[0m\u001b[1m Debt    \u001b[0m\u001b[1m Married \u001b[0m\u001b[1m BankCustomer \u001b[0m\u001b[1m Industry              \u001b[0m\u001b[1m\u001b[0m ⋯\n",
       "\u001b[1m     \u001b[0m│\u001b[90m Int64  \u001b[0m\u001b[90m Float64 \u001b[0m\u001b[90m Float64 \u001b[0m\u001b[90m Int64   \u001b[0m\u001b[90m Int64        \u001b[0m\u001b[90m String31              \u001b[0m\u001b[90m\u001b[0m ⋯\n",
       "─────┼──────────────────────────────────────────────────────────────────────────\n",
       "   1 │      1    30.83    0.0          1             1  Industrials            ⋯\n",
       "   2 │      0    58.67    4.46         1             1  Materials\n",
       "   3 │      0    24.5     0.5          1             1  Materials\n",
       "   4 │      1    27.83    1.54         1             1  Industrials\n",
       "   5 │      1    20.17    5.625        1             1  Industrials            ⋯\n",
       "   6 │      1    32.08    4.0          1             1  CommunicationServices\n",
       "   7 │      1    33.17    1.04         1             1  Transport\n",
       "   8 │      0    22.92   11.585        1             1  InformationTechnology\n",
       "\u001b[36m                                                              10 columns omitted\u001b[0m"
      ]
     },
     "execution_count": 2,
     "metadata": {},
     "output_type": "execute_result"
    }
   ],
   "source": [
    "path=pwd()*\"/Data/clean_dataset.csv\" \n",
    "df = CSV.File(path)|> DataFrame\n",
    "first(df,8)"
   ]
  },
  {
   "cell_type": "code",
   "execution_count": 3,
   "id": "e4fd2e78",
   "metadata": {},
   "outputs": [
    {
     "data": {
      "text/html": [
       "<div class=\"data-frame\"><p>690 rows × 13 columns (omitted printing of 5 columns)</p><table class=\"data-frame\"><thead><tr><th></th><th>Gender</th><th>Age</th><th>Debt</th><th>Married</th><th>BankCustomer</th><th>YearsEmployed</th><th>PriorDefault</th><th>Employed</th></tr><tr><th></th><th title=\"Int64\">Int64</th><th title=\"Float64\">Float64</th><th title=\"Float64\">Float64</th><th title=\"Int64\">Int64</th><th title=\"Int64\">Int64</th><th title=\"Float64\">Float64</th><th title=\"Int64\">Int64</th><th title=\"Int64\">Int64</th></tr></thead><tbody><tr><th>1</th><td>1</td><td>30.83</td><td>0.0</td><td>1</td><td>1</td><td>1.25</td><td>1</td><td>1</td></tr><tr><th>2</th><td>0</td><td>58.67</td><td>4.46</td><td>1</td><td>1</td><td>3.04</td><td>1</td><td>1</td></tr><tr><th>3</th><td>0</td><td>24.5</td><td>0.5</td><td>1</td><td>1</td><td>1.5</td><td>1</td><td>0</td></tr><tr><th>4</th><td>1</td><td>27.83</td><td>1.54</td><td>1</td><td>1</td><td>3.75</td><td>1</td><td>1</td></tr><tr><th>5</th><td>1</td><td>20.17</td><td>5.625</td><td>1</td><td>1</td><td>1.71</td><td>1</td><td>0</td></tr><tr><th>6</th><td>1</td><td>32.08</td><td>4.0</td><td>1</td><td>1</td><td>2.5</td><td>1</td><td>0</td></tr><tr><th>7</th><td>1</td><td>33.17</td><td>1.04</td><td>1</td><td>1</td><td>6.5</td><td>1</td><td>0</td></tr><tr><th>8</th><td>0</td><td>22.92</td><td>11.585</td><td>1</td><td>1</td><td>0.04</td><td>1</td><td>0</td></tr><tr><th>9</th><td>1</td><td>54.42</td><td>0.5</td><td>0</td><td>0</td><td>3.96</td><td>1</td><td>0</td></tr><tr><th>10</th><td>1</td><td>42.5</td><td>4.915</td><td>0</td><td>0</td><td>3.165</td><td>1</td><td>0</td></tr><tr><th>11</th><td>1</td><td>22.08</td><td>0.83</td><td>1</td><td>1</td><td>2.165</td><td>0</td><td>0</td></tr><tr><th>12</th><td>1</td><td>29.92</td><td>1.835</td><td>1</td><td>1</td><td>4.335</td><td>1</td><td>0</td></tr><tr><th>13</th><td>0</td><td>38.25</td><td>6.0</td><td>1</td><td>1</td><td>1.0</td><td>1</td><td>0</td></tr><tr><th>14</th><td>1</td><td>48.08</td><td>6.04</td><td>1</td><td>1</td><td>0.04</td><td>0</td><td>0</td></tr><tr><th>15</th><td>0</td><td>45.83</td><td>10.5</td><td>1</td><td>1</td><td>5.0</td><td>1</td><td>1</td></tr><tr><th>16</th><td>1</td><td>36.67</td><td>4.415</td><td>0</td><td>0</td><td>0.25</td><td>1</td><td>1</td></tr><tr><th>17</th><td>1</td><td>28.25</td><td>0.875</td><td>1</td><td>1</td><td>0.96</td><td>1</td><td>1</td></tr><tr><th>18</th><td>0</td><td>23.25</td><td>5.875</td><td>1</td><td>1</td><td>3.17</td><td>1</td><td>1</td></tr><tr><th>19</th><td>1</td><td>21.83</td><td>0.25</td><td>1</td><td>1</td><td>0.665</td><td>1</td><td>0</td></tr><tr><th>20</th><td>0</td><td>19.17</td><td>8.585</td><td>1</td><td>1</td><td>0.75</td><td>1</td><td>1</td></tr><tr><th>21</th><td>1</td><td>25.0</td><td>11.25</td><td>1</td><td>1</td><td>2.5</td><td>1</td><td>1</td></tr><tr><th>22</th><td>1</td><td>23.25</td><td>1.0</td><td>1</td><td>1</td><td>0.835</td><td>1</td><td>0</td></tr><tr><th>23</th><td>0</td><td>47.75</td><td>8.0</td><td>1</td><td>1</td><td>7.875</td><td>1</td><td>1</td></tr><tr><th>24</th><td>0</td><td>27.42</td><td>14.5</td><td>1</td><td>1</td><td>3.085</td><td>1</td><td>1</td></tr><tr><th>25</th><td>0</td><td>41.17</td><td>6.5</td><td>1</td><td>1</td><td>0.5</td><td>1</td><td>1</td></tr><tr><th>26</th><td>0</td><td>15.83</td><td>0.585</td><td>1</td><td>1</td><td>1.5</td><td>1</td><td>1</td></tr><tr><th>27</th><td>0</td><td>47.0</td><td>13.0</td><td>1</td><td>1</td><td>5.165</td><td>1</td><td>1</td></tr><tr><th>28</th><td>1</td><td>56.58</td><td>18.5</td><td>1</td><td>1</td><td>15.0</td><td>1</td><td>1</td></tr><tr><th>29</th><td>1</td><td>57.42</td><td>8.5</td><td>1</td><td>1</td><td>7.0</td><td>1</td><td>1</td></tr><tr><th>30</th><td>1</td><td>42.08</td><td>1.04</td><td>1</td><td>1</td><td>5.0</td><td>1</td><td>1</td></tr><tr><th>&vellip;</th><td>&vellip;</td><td>&vellip;</td><td>&vellip;</td><td>&vellip;</td><td>&vellip;</td><td>&vellip;</td><td>&vellip;</td><td>&vellip;</td></tr></tbody></table></div>"
      ],
      "text/latex": [
       "\\begin{tabular}{r|ccccccccc}\n",
       "\t& Gender & Age & Debt & Married & BankCustomer & YearsEmployed & PriorDefault & Employed & \\\\\n",
       "\t\\hline\n",
       "\t& Int64 & Float64 & Float64 & Int64 & Int64 & Float64 & Int64 & Int64 & \\\\\n",
       "\t\\hline\n",
       "\t1 & 1 & 30.83 & 0.0 & 1 & 1 & 1.25 & 1 & 1 & $\\dots$ \\\\\n",
       "\t2 & 0 & 58.67 & 4.46 & 1 & 1 & 3.04 & 1 & 1 & $\\dots$ \\\\\n",
       "\t3 & 0 & 24.5 & 0.5 & 1 & 1 & 1.5 & 1 & 0 & $\\dots$ \\\\\n",
       "\t4 & 1 & 27.83 & 1.54 & 1 & 1 & 3.75 & 1 & 1 & $\\dots$ \\\\\n",
       "\t5 & 1 & 20.17 & 5.625 & 1 & 1 & 1.71 & 1 & 0 & $\\dots$ \\\\\n",
       "\t6 & 1 & 32.08 & 4.0 & 1 & 1 & 2.5 & 1 & 0 & $\\dots$ \\\\\n",
       "\t7 & 1 & 33.17 & 1.04 & 1 & 1 & 6.5 & 1 & 0 & $\\dots$ \\\\\n",
       "\t8 & 0 & 22.92 & 11.585 & 1 & 1 & 0.04 & 1 & 0 & $\\dots$ \\\\\n",
       "\t9 & 1 & 54.42 & 0.5 & 0 & 0 & 3.96 & 1 & 0 & $\\dots$ \\\\\n",
       "\t10 & 1 & 42.5 & 4.915 & 0 & 0 & 3.165 & 1 & 0 & $\\dots$ \\\\\n",
       "\t11 & 1 & 22.08 & 0.83 & 1 & 1 & 2.165 & 0 & 0 & $\\dots$ \\\\\n",
       "\t12 & 1 & 29.92 & 1.835 & 1 & 1 & 4.335 & 1 & 0 & $\\dots$ \\\\\n",
       "\t13 & 0 & 38.25 & 6.0 & 1 & 1 & 1.0 & 1 & 0 & $\\dots$ \\\\\n",
       "\t14 & 1 & 48.08 & 6.04 & 1 & 1 & 0.04 & 0 & 0 & $\\dots$ \\\\\n",
       "\t15 & 0 & 45.83 & 10.5 & 1 & 1 & 5.0 & 1 & 1 & $\\dots$ \\\\\n",
       "\t16 & 1 & 36.67 & 4.415 & 0 & 0 & 0.25 & 1 & 1 & $\\dots$ \\\\\n",
       "\t17 & 1 & 28.25 & 0.875 & 1 & 1 & 0.96 & 1 & 1 & $\\dots$ \\\\\n",
       "\t18 & 0 & 23.25 & 5.875 & 1 & 1 & 3.17 & 1 & 1 & $\\dots$ \\\\\n",
       "\t19 & 1 & 21.83 & 0.25 & 1 & 1 & 0.665 & 1 & 0 & $\\dots$ \\\\\n",
       "\t20 & 0 & 19.17 & 8.585 & 1 & 1 & 0.75 & 1 & 1 & $\\dots$ \\\\\n",
       "\t21 & 1 & 25.0 & 11.25 & 1 & 1 & 2.5 & 1 & 1 & $\\dots$ \\\\\n",
       "\t22 & 1 & 23.25 & 1.0 & 1 & 1 & 0.835 & 1 & 0 & $\\dots$ \\\\\n",
       "\t23 & 0 & 47.75 & 8.0 & 1 & 1 & 7.875 & 1 & 1 & $\\dots$ \\\\\n",
       "\t24 & 0 & 27.42 & 14.5 & 1 & 1 & 3.085 & 1 & 1 & $\\dots$ \\\\\n",
       "\t25 & 0 & 41.17 & 6.5 & 1 & 1 & 0.5 & 1 & 1 & $\\dots$ \\\\\n",
       "\t26 & 0 & 15.83 & 0.585 & 1 & 1 & 1.5 & 1 & 1 & $\\dots$ \\\\\n",
       "\t27 & 0 & 47.0 & 13.0 & 1 & 1 & 5.165 & 1 & 1 & $\\dots$ \\\\\n",
       "\t28 & 1 & 56.58 & 18.5 & 1 & 1 & 15.0 & 1 & 1 & $\\dots$ \\\\\n",
       "\t29 & 1 & 57.42 & 8.5 & 1 & 1 & 7.0 & 1 & 1 & $\\dots$ \\\\\n",
       "\t30 & 1 & 42.08 & 1.04 & 1 & 1 & 5.0 & 1 & 1 & $\\dots$ \\\\\n",
       "\t$\\dots$ & $\\dots$ & $\\dots$ & $\\dots$ & $\\dots$ & $\\dots$ & $\\dots$ & $\\dots$ & $\\dots$ &  \\\\\n",
       "\\end{tabular}\n"
      ],
      "text/plain": [
       "\u001b[1m690×13 DataFrame\u001b[0m\n",
       "\u001b[1m Row \u001b[0m│\u001b[1m Gender \u001b[0m\u001b[1m Age     \u001b[0m\u001b[1m Debt    \u001b[0m\u001b[1m Married \u001b[0m\u001b[1m BankCustomer \u001b[0m\u001b[1m YearsEmployed \u001b[0m\u001b[1m PriorDe\u001b[0m ⋯\n",
       "\u001b[1m     \u001b[0m│\u001b[90m Int64  \u001b[0m\u001b[90m Float64 \u001b[0m\u001b[90m Float64 \u001b[0m\u001b[90m Int64   \u001b[0m\u001b[90m Int64        \u001b[0m\u001b[90m Float64       \u001b[0m\u001b[90m Int64  \u001b[0m ⋯\n",
       "─────┼──────────────────────────────────────────────────────────────────────────\n",
       "   1 │      1    30.83    0.0          1             1          1.25           ⋯\n",
       "   2 │      0    58.67    4.46         1             1          3.04\n",
       "   3 │      0    24.5     0.5          1             1          1.5\n",
       "   4 │      1    27.83    1.54         1             1          3.75\n",
       "   5 │      1    20.17    5.625        1             1          1.71           ⋯\n",
       "   6 │      1    32.08    4.0          1             1          2.5\n",
       "   7 │      1    33.17    1.04         1             1          6.5\n",
       "   8 │      0    22.92   11.585        1             1          0.04\n",
       "   9 │      1    54.42    0.5          0             0          3.96           ⋯\n",
       "  10 │      1    42.5     4.915        0             0          3.165\n",
       "  11 │      1    22.08    0.83         1             1          2.165\n",
       "  ⋮  │   ⋮        ⋮        ⋮        ⋮          ⋮              ⋮             ⋮  ⋱\n",
       " 681 │      1    19.5     0.29         1             1          0.29\n",
       " 682 │      1    27.83    1.0          0             0          3.0            ⋯\n",
       " 683 │      1    17.08    3.29         1             1          0.335\n",
       " 684 │      1    36.42    0.75         0             0          0.585\n",
       " 685 │      1    40.58    3.29         1             1          3.5\n",
       " 686 │      1    21.08   10.085        0             0          1.25           ⋯\n",
       " 687 │      0    22.67    0.75         1             1          2.0\n",
       " 688 │      0    25.25   13.5          0             0          2.0\n",
       " 689 │      1    17.92    0.205        1             1          0.04\n",
       " 690 │      1    35.0     3.375        1             1          8.29           ⋯\n",
       "\u001b[36m                                                  7 columns and 669 rows omitted\u001b[0m"
      ]
     },
     "execution_count": 3,
     "metadata": {},
     "output_type": "execute_result"
    }
   ],
   "source": [
    "#Seleccionamos lo datos\n",
    "select!(df,extras.detect_strings(df)) #Para usar el modulo que importamos usamos la sintaxis NombreDelModulo.funcion)()"
   ]
  },
  {
   "cell_type": "code",
   "execution_count": 4,
   "id": "b67944eb",
   "metadata": {},
   "outputs": [
    {
     "data": {
      "text/html": [
       "<div class=\"data-frame\"><p>13 rows × 7 columns</p><table class=\"data-frame\"><thead><tr><th></th><th>variable</th><th>mean</th><th>min</th><th>median</th><th>max</th><th>nmissing</th><th>eltype</th></tr><tr><th></th><th title=\"Symbol\">Symbol</th><th title=\"Float64\">Float64</th><th title=\"Real\">Real</th><th title=\"Float64\">Float64</th><th title=\"Real\">Real</th><th title=\"Int64\">Int64</th><th title=\"DataType\">DataType</th></tr></thead><tbody><tr><th>1</th><td>Gender</td><td>0.695652</td><td>0</td><td>1.0</td><td>1</td><td>0</td><td>Int64</td></tr><tr><th>2</th><td>Age</td><td>31.5141</td><td>13.75</td><td>28.46</td><td>80.25</td><td>0</td><td>Float64</td></tr><tr><th>3</th><td>Debt</td><td>4.75872</td><td>0.0</td><td>2.75</td><td>28.0</td><td>0</td><td>Float64</td></tr><tr><th>4</th><td>Married</td><td>0.76087</td><td>0</td><td>1.0</td><td>1</td><td>0</td><td>Int64</td></tr><tr><th>5</th><td>BankCustomer</td><td>0.763768</td><td>0</td><td>1.0</td><td>1</td><td>0</td><td>Int64</td></tr><tr><th>6</th><td>YearsEmployed</td><td>2.22341</td><td>0.0</td><td>1.0</td><td>28.5</td><td>0</td><td>Float64</td></tr><tr><th>7</th><td>PriorDefault</td><td>0.523188</td><td>0</td><td>1.0</td><td>1</td><td>0</td><td>Int64</td></tr><tr><th>8</th><td>Employed</td><td>0.427536</td><td>0</td><td>0.0</td><td>1</td><td>0</td><td>Int64</td></tr><tr><th>9</th><td>CreditScore</td><td>2.4</td><td>0</td><td>0.0</td><td>67</td><td>0</td><td>Int64</td></tr><tr><th>10</th><td>DriversLicense</td><td>0.457971</td><td>0</td><td>0.0</td><td>1</td><td>0</td><td>Int64</td></tr><tr><th>11</th><td>ZipCode</td><td>180.548</td><td>0</td><td>160.0</td><td>2000</td><td>0</td><td>Int64</td></tr><tr><th>12</th><td>Income</td><td>1017.39</td><td>0</td><td>5.0</td><td>100000</td><td>0</td><td>Int64</td></tr><tr><th>13</th><td>Approved</td><td>0.444928</td><td>0</td><td>0.0</td><td>1</td><td>0</td><td>Int64</td></tr></tbody></table></div>"
      ],
      "text/latex": [
       "\\begin{tabular}{r|ccccccc}\n",
       "\t& variable & mean & min & median & max & nmissing & eltype\\\\\n",
       "\t\\hline\n",
       "\t& Symbol & Float64 & Real & Float64 & Real & Int64 & DataType\\\\\n",
       "\t\\hline\n",
       "\t1 & Gender & 0.695652 & 0 & 1.0 & 1 & 0 & Int64 \\\\\n",
       "\t2 & Age & 31.5141 & 13.75 & 28.46 & 80.25 & 0 & Float64 \\\\\n",
       "\t3 & Debt & 4.75872 & 0.0 & 2.75 & 28.0 & 0 & Float64 \\\\\n",
       "\t4 & Married & 0.76087 & 0 & 1.0 & 1 & 0 & Int64 \\\\\n",
       "\t5 & BankCustomer & 0.763768 & 0 & 1.0 & 1 & 0 & Int64 \\\\\n",
       "\t6 & YearsEmployed & 2.22341 & 0.0 & 1.0 & 28.5 & 0 & Float64 \\\\\n",
       "\t7 & PriorDefault & 0.523188 & 0 & 1.0 & 1 & 0 & Int64 \\\\\n",
       "\t8 & Employed & 0.427536 & 0 & 0.0 & 1 & 0 & Int64 \\\\\n",
       "\t9 & CreditScore & 2.4 & 0 & 0.0 & 67 & 0 & Int64 \\\\\n",
       "\t10 & DriversLicense & 0.457971 & 0 & 0.0 & 1 & 0 & Int64 \\\\\n",
       "\t11 & ZipCode & 180.548 & 0 & 160.0 & 2000 & 0 & Int64 \\\\\n",
       "\t12 & Income & 1017.39 & 0 & 5.0 & 100000 & 0 & Int64 \\\\\n",
       "\t13 & Approved & 0.444928 & 0 & 0.0 & 1 & 0 & Int64 \\\\\n",
       "\\end{tabular}\n"
      ],
      "text/plain": [
       "\u001b[1m13×7 DataFrame\u001b[0m\n",
       "\u001b[1m Row \u001b[0m│\u001b[1m variable       \u001b[0m\u001b[1m mean        \u001b[0m\u001b[1m min   \u001b[0m\u001b[1m median  \u001b[0m\u001b[1m max       \u001b[0m\u001b[1m nmissing \u001b[0m\u001b[1m eltyp\u001b[0m ⋯\n",
       "\u001b[1m     \u001b[0m│\u001b[90m Symbol         \u001b[0m\u001b[90m Float64     \u001b[0m\u001b[90m Real  \u001b[0m\u001b[90m Float64 \u001b[0m\u001b[90m Real      \u001b[0m\u001b[90m Int64    \u001b[0m\u001b[90m DataT\u001b[0m ⋯\n",
       "─────┼──────────────────────────────────────────────────────────────────────────\n",
       "   1 │ Gender             0.695652   0        1.0        1            0  Int64 ⋯\n",
       "   2 │ Age               31.5141    13.75    28.46      80.25         0  Float\n",
       "   3 │ Debt               4.75872    0.0      2.75      28.0          0  Float\n",
       "   4 │ Married            0.76087    0        1.0        1            0  Int64\n",
       "   5 │ BankCustomer       0.763768   0        1.0        1            0  Int64 ⋯\n",
       "   6 │ YearsEmployed      2.22341    0.0      1.0       28.5          0  Float\n",
       "   7 │ PriorDefault       0.523188   0        1.0        1            0  Int64\n",
       "   8 │ Employed           0.427536   0        0.0        1            0  Int64\n",
       "   9 │ CreditScore        2.4        0        0.0       67            0  Int64 ⋯\n",
       "  10 │ DriversLicense     0.457971   0        0.0        1            0  Int64\n",
       "  11 │ ZipCode          180.548      0      160.0     2000            0  Int64\n",
       "  12 │ Income          1017.39       0        5.0   100000            0  Int64\n",
       "  13 │ Approved           0.444928   0        0.0        1            0  Int64 ⋯\n",
       "\u001b[36m                                                                1 column omitted\u001b[0m"
      ]
     },
     "execution_count": 4,
     "metadata": {},
     "output_type": "execute_result"
    }
   ],
   "source": [
    "describe(df)"
   ]
  },
  {
   "cell_type": "markdown",
   "id": "faa0df50",
   "metadata": {},
   "source": [
    "Los dividimos en entrenamiento y test"
   ]
  },
  {
   "cell_type": "code",
   "execution_count": 5,
   "id": "d9f9ae0d",
   "metadata": {},
   "outputs": [
    {
     "data": {
      "text/html": [
       "<div class=\"data-frame\"><p>3 rows × 13 columns (omitted printing of 5 columns)</p><table class=\"data-frame\"><thead><tr><th></th><th>Gender</th><th>Age</th><th>Debt</th><th>Married</th><th>BankCustomer</th><th>YearsEmployed</th><th>PriorDefault</th><th>Employed</th></tr><tr><th></th><th title=\"Int64\">Int64</th><th title=\"Float64\">Float64</th><th title=\"Float64\">Float64</th><th title=\"Int64\">Int64</th><th title=\"Int64\">Int64</th><th title=\"Float64\">Float64</th><th title=\"Int64\">Int64</th><th title=\"Int64\">Int64</th></tr></thead><tbody><tr><th>1</th><td>1</td><td>30.83</td><td>0.0</td><td>1</td><td>1</td><td>1.25</td><td>1</td><td>1</td></tr><tr><th>2</th><td>0</td><td>58.67</td><td>4.46</td><td>1</td><td>1</td><td>3.04</td><td>1</td><td>1</td></tr><tr><th>3</th><td>0</td><td>24.5</td><td>0.5</td><td>1</td><td>1</td><td>1.5</td><td>1</td><td>0</td></tr></tbody></table></div>"
      ],
      "text/latex": [
       "\\begin{tabular}{r|ccccccccc}\n",
       "\t& Gender & Age & Debt & Married & BankCustomer & YearsEmployed & PriorDefault & Employed & \\\\\n",
       "\t\\hline\n",
       "\t& Int64 & Float64 & Float64 & Int64 & Int64 & Float64 & Int64 & Int64 & \\\\\n",
       "\t\\hline\n",
       "\t1 & 1 & 30.83 & 0.0 & 1 & 1 & 1.25 & 1 & 1 & $\\dots$ \\\\\n",
       "\t2 & 0 & 58.67 & 4.46 & 1 & 1 & 3.04 & 1 & 1 & $\\dots$ \\\\\n",
       "\t3 & 0 & 24.5 & 0.5 & 1 & 1 & 1.5 & 1 & 0 & $\\dots$ \\\\\n",
       "\\end{tabular}\n"
      ],
      "text/plain": [
       "\u001b[1m3×13 DataFrame\u001b[0m\n",
       "\u001b[1m Row \u001b[0m│\u001b[1m Gender \u001b[0m\u001b[1m Age     \u001b[0m\u001b[1m Debt    \u001b[0m\u001b[1m Married \u001b[0m\u001b[1m BankCustomer \u001b[0m\u001b[1m YearsEmployed \u001b[0m\u001b[1m PriorDe\u001b[0m ⋯\n",
       "\u001b[1m     \u001b[0m│\u001b[90m Int64  \u001b[0m\u001b[90m Float64 \u001b[0m\u001b[90m Float64 \u001b[0m\u001b[90m Int64   \u001b[0m\u001b[90m Int64        \u001b[0m\u001b[90m Float64       \u001b[0m\u001b[90m Int64  \u001b[0m ⋯\n",
       "─────┼──────────────────────────────────────────────────────────────────────────\n",
       "   1 │      1    30.83     0.0         1             1           1.25          ⋯\n",
       "   2 │      0    58.67     4.46        1             1           3.04\n",
       "   3 │      0    24.5      0.5         1             1           1.5\n",
       "\u001b[36m                                                               7 columns omitted\u001b[0m"
      ]
     },
     "execution_count": 5,
     "metadata": {},
     "output_type": "execute_result"
    }
   ],
   "source": [
    "sample = randsubseq(1:size(df,1), 0.75)\n",
    "train = df[sample, :]\n",
    "notsample = [i for i in 1:size(df,1) if isempty(searchsorted(sample, i))]\n",
    "test = df[notsample, :]\n",
    "first(train,3)"
   ]
  },
  {
   "cell_type": "code",
   "execution_count": 6,
   "id": "fe2e88bd",
   "metadata": {},
   "outputs": [
    {
     "data": {
      "text/plain": [
       "166-element Vector{Int64}:\n",
       " 1\n",
       " 1\n",
       " 1\n",
       " 1\n",
       " 1\n",
       " 1\n",
       " 1\n",
       " 1\n",
       " 1\n",
       " 1\n",
       " 1\n",
       " 1\n",
       " 1\n",
       " ⋮\n",
       " 0\n",
       " 0\n",
       " 0\n",
       " 0\n",
       " 0\n",
       " 0\n",
       " 0\n",
       " 0\n",
       " 0\n",
       " 0\n",
       " 0\n",
       " 0"
      ]
     },
     "execution_count": 6,
     "metadata": {},
     "output_type": "execute_result"
    }
   ],
   "source": [
    "X_train = Array(train[:, 1:12])\n",
    "y_train = Array(train[:, 13])\n",
    "\n",
    "X_test = Array(test[:, 1:12])\n",
    "y_test = Array(test[:, 13])"
   ]
  },
  {
   "cell_type": "markdown",
   "id": "660edb6d",
   "metadata": {},
   "source": [
    "## Regresión logistica"
   ]
  },
  {
   "cell_type": "code",
   "execution_count": 7,
   "id": "ec2429f0",
   "metadata": {},
   "outputs": [],
   "source": [
    "using GLM"
   ]
  },
  {
   "cell_type": "markdown",
   "id": "627060bb",
   "metadata": {},
   "source": [
    "Aquí usamos la función formula que nos dice que\n",
    "$$A\\approx f(\\alpha_{1}G +\\alpha_{2}A \\alpha_{3}D +\\cdot +\\alpha_{12}I )$$"
   ]
  },
  {
   "cell_type": "code",
   "execution_count": 8,
   "id": "4098676c",
   "metadata": {},
   "outputs": [
    {
     "data": {
      "text/plain": [
       "FormulaTerm\n",
       "Response:\n",
       "  Approved(unknown)\n",
       "Predictors:\n",
       "  Gender(unknown)\n",
       "  Age(unknown)\n",
       "  Debt(unknown)\n",
       "  Married(unknown)\n",
       "  BankCustomer(unknown)\n",
       "  YearsEmployed(unknown)\n",
       "  PriorDefault(unknown)\n",
       "  Employed(unknown)\n",
       "  CreditScore(unknown)\n",
       "  DriversLicense(unknown)\n",
       "  ZipCode(unknown)\n",
       "  Income(unknown)"
      ]
     },
     "execution_count": 8,
     "metadata": {},
     "output_type": "execute_result"
    }
   ],
   "source": [
    "fm = @formula(Approved ~ Gender+ Age+ Debt+ Married+ BankCustomer+ YearsEmployed+ PriorDefault+ Employed+ CreditScore+ DriversLicense+ ZipCode+ Income)"
   ]
  },
  {
   "cell_type": "markdown",
   "id": "cafc8da4",
   "metadata": {},
   "source": [
    "Usamos benchmark para ver el desempeño del algoritmo a nivel computacional con los valores por defecto, en éste caso es una regresión logistica con el paquete **GLM**"
   ]
  },
  {
   "cell_type": "code",
   "execution_count": 9,
   "id": "f834d0e4",
   "metadata": {},
   "outputs": [
    {
     "data": {
      "text/plain": [
       "BenchmarkTools.Trial: 1247 samples with 1 evaluation.\n",
       " Range \u001b[90m(\u001b[39m\u001b[36m\u001b[1mmin\u001b[22m\u001b[39m … \u001b[35mmax\u001b[39m\u001b[90m):  \u001b[39m\u001b[36m\u001b[1m1.820 ms\u001b[22m\u001b[39m … \u001b[35m34.184 ms\u001b[39m  \u001b[90m┊\u001b[39m GC \u001b[90m(\u001b[39mmin … max\u001b[90m): \u001b[39m0.00% … 17.28%\n",
       " Time  \u001b[90m(\u001b[39m\u001b[34m\u001b[1mmedian\u001b[22m\u001b[39m\u001b[90m):     \u001b[39m\u001b[34m\u001b[1m2.045 ms              \u001b[22m\u001b[39m\u001b[90m┊\u001b[39m GC \u001b[90m(\u001b[39mmedian\u001b[90m):    \u001b[39m0.00%\n",
       " Time  \u001b[90m(\u001b[39m\u001b[32m\u001b[1mmean\u001b[22m\u001b[39m ± \u001b[32mσ\u001b[39m\u001b[90m):   \u001b[39m\u001b[32m\u001b[1m3.983 ms\u001b[22m\u001b[39m ± \u001b[32m 4.295 ms\u001b[39m  \u001b[90m┊\u001b[39m GC \u001b[90m(\u001b[39mmean ± σ\u001b[90m):  \u001b[39m1.61% ±  5.48%\n",
       "\n",
       "  \u001b[39m█\u001b[34m▅\u001b[39m\u001b[39m▁\u001b[39m▁\u001b[39m▁\u001b[39m \u001b[32m \u001b[39m\u001b[39m \u001b[39m \u001b[39m \u001b[39m \u001b[39m \u001b[39m \u001b[39m \u001b[39m \u001b[39m \u001b[39m \u001b[39m \u001b[39m \u001b[39m \u001b[39m \u001b[39m \u001b[39m \u001b[39m \u001b[39m \u001b[39m \u001b[39m \u001b[39m \u001b[39m \u001b[39m \u001b[39m \u001b[39m \u001b[39m \u001b[39m \u001b[39m \u001b[39m \u001b[39m \u001b[39m \u001b[39m \u001b[39m \u001b[39m \u001b[39m \u001b[39m \u001b[39m \u001b[39m \u001b[39m \u001b[39m \u001b[39m \u001b[39m \u001b[39m \u001b[39m \u001b[39m \u001b[39m \u001b[39m \u001b[39m \u001b[39m \u001b[39m \u001b[39m \u001b[39m \u001b[39m \n",
       "  \u001b[39m█\u001b[34m█\u001b[39m\u001b[39m█\u001b[39m█\u001b[39m█\u001b[39m█\u001b[32m█\u001b[39m\u001b[39m█\u001b[39m█\u001b[39m▇\u001b[39m▅\u001b[39m▅\u001b[39m█\u001b[39m▇\u001b[39m█\u001b[39m█\u001b[39m▇\u001b[39m█\u001b[39m█\u001b[39m▇\u001b[39m▆\u001b[39m▇\u001b[39m▇\u001b[39m▆\u001b[39m▃\u001b[39m▇\u001b[39m▆\u001b[39m▆\u001b[39m▅\u001b[39m▅\u001b[39m▅\u001b[39m▆\u001b[39m▃\u001b[39m▅\u001b[39m▄\u001b[39m▆\u001b[39m▆\u001b[39m▁\u001b[39m▅\u001b[39m▄\u001b[39m▄\u001b[39m▆\u001b[39m▄\u001b[39m▁\u001b[39m▁\u001b[39m▅\u001b[39m▁\u001b[39m▁\u001b[39m▃\u001b[39m▄\u001b[39m▃\u001b[39m▄\u001b[39m▃\u001b[39m▁\u001b[39m▁\u001b[39m▁\u001b[39m▁\u001b[39m▄\u001b[39m \u001b[39m▇\n",
       "  1.82 ms\u001b[90m      \u001b[39m\u001b[90mHistogram: \u001b[39m\u001b[90m\u001b[1mlog(\u001b[22m\u001b[39m\u001b[90mfrequency\u001b[39m\u001b[90m\u001b[1m)\u001b[22m\u001b[39m\u001b[90m by time\u001b[39m     23.1 ms \u001b[0m\u001b[1m<\u001b[22m\n",
       "\n",
       " Memory estimate\u001b[90m: \u001b[39m\u001b[33m458.22 KiB\u001b[39m, allocs estimate\u001b[90m: \u001b[39m\u001b[33m1375\u001b[39m."
      ]
     },
     "execution_count": 9,
     "metadata": {},
     "output_type": "execute_result"
    }
   ],
   "source": [
    "@benchmark glm(fm, train , Binomial(),ProbitLink())"
   ]
  },
  {
   "cell_type": "markdown",
   "id": "17dce4fe",
   "metadata": {},
   "source": [
    "Entrenamos el modelo con un modelo lineal generalizado"
   ]
  },
  {
   "cell_type": "code",
   "execution_count": 10,
   "id": "c6b99857",
   "metadata": {},
   "outputs": [
    {
     "data": {
      "text/plain": [
       "StatsModels.TableRegressionModel{GeneralizedLinearModel{GLM.GlmResp{Vector{Float64}, Binomial{Float64}, ProbitLink}, GLM.DensePredChol{Float64, LinearAlgebra.Cholesky{Float64, Matrix{Float64}}}}, Matrix{Float64}}\n",
       "\n",
       "Approved ~ 1 + Gender + Age + Debt + Married + BankCustomer + YearsEmployed + PriorDefault + Employed + CreditScore + DriversLicense + ZipCode + Income\n",
       "\n",
       "Coefficients:\n",
       "───────────────────────────────────────────────────────────────────────────────────────\n",
       "                       Coef.    Std. Error      z  Pr(>|z|)     Lower 95%     Upper 95%\n",
       "───────────────────────────────────────────────────────────────────────────────────────\n",
       "(Intercept)     -1.46375       0.296658     -4.93    <1e-06   -2.04519     -0.882307\n",
       "Gender          -0.081235      0.165125     -0.49    0.6227   -0.404874     0.242404\n",
       "Age             -0.00560027    0.00661872   -0.85    0.3975   -0.0185727    0.00737217\n",
       "Debt            -0.0347453     0.0162674    -2.14    0.0327   -0.0666289   -0.00286164\n",
       "Married         -4.88322      18.0365       -0.27    0.7866  -40.2342      30.4677\n",
       "BankCustomer     5.34997      18.0369        0.30    0.7668  -30.0017      40.7017\n",
       "YearsEmployed    0.0515437     0.0292253     1.76    0.0778   -0.00573675   0.108824\n",
       "PriorDefault     1.99585       0.172073     11.60    <1e-30    1.65859      2.3331\n",
       "Employed         0.350784      0.198044      1.77    0.0765   -0.0373749    0.738944\n",
       "CreditScore      0.0492496     0.0294281     1.67    0.0942   -0.00842832   0.106928\n",
       "DriversLicense  -0.225052      0.15552      -1.45    0.1479   -0.529867     0.0797624\n",
       "ZipCode         -0.000925905   0.000492773  -1.88    0.0602   -0.00189172   3.99129e-5\n",
       "Income           0.000218982   7.94744e-5    2.76    0.0059    6.32152e-5   0.000374749\n",
       "───────────────────────────────────────────────────────────────────────────────────────"
      ]
     },
     "execution_count": 10,
     "metadata": {},
     "output_type": "execute_result"
    }
   ],
   "source": [
    "logit= glm(fm, train , Binomial(),ProbitLink())"
   ]
  },
  {
   "cell_type": "code",
   "execution_count": 11,
   "id": "f4ea0d79",
   "metadata": {},
   "outputs": [
    {
     "name": "stdout",
     "output_type": "stream",
     "text": [
      "Terminado\n"
     ]
    }
   ],
   "source": [
    "pred=predict(logit,test)\n",
    "prediction_class=[if x<0.5 0 else 1 end for x in pred]\n",
    "df_result=test[:,\"Approved\"]\n",
    "println(\"Terminado\")"
   ]
  },
  {
   "cell_type": "code",
   "execution_count": 12,
   "id": "1c8745d9",
   "metadata": {},
   "outputs": [
    {
     "name": "stdout",
     "output_type": "stream",
     "text": [
      "El modelo tuvo una precisión del 89.1566265060241%\n"
     ]
    }
   ],
   "source": [
    "prediction_correctly= prediction_class.== df_result\n",
    "accuracy=mean(prediction_correctly)*100\n",
    "println(\"El modelo tuvo una precisión del \"*string(accuracy)*\"%\" )"
   ]
  },
  {
   "cell_type": "markdown",
   "id": "e81271ec",
   "metadata": {},
   "source": [
    "## Arboles de decisión"
   ]
  },
  {
   "cell_type": "code",
   "execution_count": 13,
   "id": "86065117",
   "metadata": {},
   "outputs": [
    {
     "name": "stderr",
     "output_type": "stream",
     "text": [
      "WARNING: using DecisionTree.predict in module Main conflicts with an existing identifier.\n"
     ]
    }
   ],
   "source": [
    "using DecisionTree"
   ]
  },
  {
   "cell_type": "code",
   "execution_count": 14,
   "id": "9f02419b",
   "metadata": {},
   "outputs": [
    {
     "data": {
      "text/plain": [
       "DecisionTreeClassifier\n",
       "max_depth:                5\n",
       "min_samples_leaf:         1\n",
       "min_samples_split:        2\n",
       "min_purity_increase:      0.0\n",
       "pruning_purity_threshold: 1.0\n",
       "n_subfeatures:            0\n",
       "classes:                  nothing\n",
       "root:                     nothing"
      ]
     },
     "execution_count": 14,
     "metadata": {},
     "output_type": "execute_result"
    }
   ],
   "source": [
    "model = DecisionTreeClassifier(max_depth=5)"
   ]
  },
  {
   "cell_type": "code",
   "execution_count": 15,
   "id": "9d26ce55",
   "metadata": {},
   "outputs": [],
   "source": [
    "using DecisionTree:fit!"
   ]
  },
  {
   "cell_type": "code",
   "execution_count": null,
   "id": "ee1862c7",
   "metadata": {},
   "outputs": [],
   "source": [
    "@benchmark fit!(model, X_train, y_train)"
   ]
  },
  {
   "cell_type": "code",
   "execution_count": null,
   "id": "3b5664d9",
   "metadata": {},
   "outputs": [],
   "source": [
    "fit!(model, X_train, y_train)"
   ]
  },
  {
   "cell_type": "code",
   "execution_count": null,
   "id": "2677324d",
   "metadata": {},
   "outputs": [],
   "source": [
    "# Predict\n",
    "dectree_pred = DecisionTree.predict(model, X_test)\n",
    "\n",
    "extras.evaluate(y_test,dectree_pred)\n",
    "\n",
    "# Compute accuracy\n",
    "correct = 0\n",
    "n=length(y_test)\n",
    "for i in 1:n\n",
    "    if y_test[i] == dectree_pred[i]\n",
    "        correct = correct + 1\n",
    "    end\n",
    "end\n",
    "println(correct / n)"
   ]
  },
  {
   "cell_type": "markdown",
   "id": "ba150ba5",
   "metadata": {},
   "source": [
    "## Random Forest"
   ]
  },
  {
   "cell_type": "code",
   "execution_count": null,
   "id": "bf0bc4ad",
   "metadata": {},
   "outputs": [],
   "source": [
    "# Fit the model\n",
    "rf = RandomForestClassifier()\n",
    "fit!(rf, X_train, y_train)\n",
    "@benchmark fit!(rf, X_train, y_train)\n"
   ]
  },
  {
   "cell_type": "code",
   "execution_count": null,
   "id": "f34dd35f",
   "metadata": {},
   "outputs": [],
   "source": [
    "\n",
    "# Predict on the test set\n",
    "rf_pred = DecisionTree.predict(rf, X_test)\n",
    "\n",
    "# Compute accuracy\n",
    "correct = 0\n",
    "n=length(y_test)\n",
    "for i in 1:n\n",
    "    if y_test[i] == rf_pred[i]\n",
    "        correct = correct + 1\n",
    "    end\n",
    "end\n",
    "println(correct / n)"
   ]
  },
  {
   "cell_type": "markdown",
   "id": "0587ec66",
   "metadata": {},
   "source": [
    "## ScikitLearn!"
   ]
  },
  {
   "cell_type": "code",
   "execution_count": null,
   "id": "db54a074",
   "metadata": {},
   "outputs": [],
   "source": [
    "# Import the model you want to use\n",
    "using ScikitLearn\n",
    "@sk_import linear_model: LogisticRegression\n",
    "using ScikitLearn:fit!"
   ]
  },
  {
   "cell_type": "code",
   "execution_count": null,
   "id": "86dfd3da",
   "metadata": {
    "scrolled": true
   },
   "outputs": [],
   "source": [
    "# Fit the model\n",
    "@benchmark  fit!(LogisticRegression(), X_train, y_train)"
   ]
  },
  {
   "cell_type": "code",
   "execution_count": null,
   "id": "79ca4105",
   "metadata": {},
   "outputs": [],
   "source": [
    "log_reg = fit!(LogisticRegression(), X_train, y_train)"
   ]
  },
  {
   "cell_type": "code",
   "execution_count": null,
   "id": "1d537c05",
   "metadata": {},
   "outputs": [],
   "source": [
    "\n",
    "\n",
    "# Predict on the test set\n",
    "sklearn_pred = log_reg.predict(X_test)\n",
    "\n",
    "# Compute the accuracy\n",
    "correct = 0\n",
    "n=length(y_test)\n",
    "for i in 1:n\n",
    "    if y_test[i] == sklearn_pred[i]       \n",
    "        correct = correct + 1\n",
    "    end\n",
    "end\n",
    "println(correct / n)"
   ]
  },
  {
   "cell_type": "markdown",
   "id": "0518b5d1",
   "metadata": {},
   "source": [
    "## MLJ"
   ]
  },
  {
   "cell_type": "code",
   "execution_count": null,
   "id": "9f131316",
   "metadata": {},
   "outputs": [],
   "source": [
    "using MLJ"
   ]
  },
  {
   "cell_type": "code",
   "execution_count": null,
   "id": "f4811a2d",
   "metadata": {},
   "outputs": [],
   "source": [
    "svc_model = (@load SVC verbosity=1)()\n",
    "\n",
    "\n",
    "# create a so-called machine\n",
    "svc = machine(svc_model, X_train, categorical(y_train))\n",
    "using MLJ:fit!\n",
    "# fit the model\n",
    "MLJ.fit!(svc);"
   ]
  },
  {
   "cell_type": "code",
   "execution_count": null,
   "id": "c92bf7ac",
   "metadata": {},
   "outputs": [],
   "source": [
    "models()"
   ]
  },
  {
   "cell_type": "code",
   "execution_count": null,
   "id": "309fb9c3",
   "metadata": {},
   "outputs": [],
   "source": [
    "ϕ=MLJ.predict(svc, X_test);"
   ]
  },
  {
   "cell_type": "code",
   "execution_count": null,
   "id": "7bdffa9d",
   "metadata": {},
   "outputs": [],
   "source": [
    "#compute the accuracy\n",
    "correct = 0\n",
    "n=length(y_test)\n",
    "for i in 1:n\n",
    "    if y_test[i] == ϕ[i]       \n",
    "        correct = correct + 1\n",
    "    end\n",
    "end\n",
    "println(correct / n)"
   ]
  },
  {
   "cell_type": "code",
   "execution_count": null,
   "id": "c79fcea3",
   "metadata": {},
   "outputs": [],
   "source": [
    "models(\"support\")"
   ]
  },
  {
   "cell_type": "code",
   "execution_count": null,
   "id": "350bcfa6",
   "metadata": {},
   "outputs": [],
   "source": [
    "load_path(\"SVMClassifier\", pkg=\"ScikitLearn\")"
   ]
  },
  {
   "cell_type": "code",
   "execution_count": null,
   "id": "f6c6a2ce",
   "metadata": {},
   "outputs": [],
   "source": [
    "svm_model = (@load SVMClassifier pkg=ScikitLearn verbosity=1)()\n",
    "\n",
    "\n",
    "# create a so-called machine\n",
    "svm = machine(svm_model, X_train, categorical(y_train))\n",
    "using MLJ:fit!\n",
    "# fit the model\n",
    "MLJ.fit!(svm);"
   ]
  },
  {
   "cell_type": "code",
   "execution_count": null,
   "id": "c4320109",
   "metadata": {},
   "outputs": [],
   "source": [
    "ϕ2=MLJ.predict(svm, X_test);\n",
    "#compute the accuracy\n",
    "correct = 0\n",
    "n=length(y_test)\n",
    "for i in 1:n\n",
    "    if y_test[i] == ϕ2[i]       \n",
    "        correct = correct + 1\n",
    "    end\n",
    "end\n",
    "println(correct / n)"
   ]
  },
  {
   "cell_type": "code",
   "execution_count": null,
   "id": "9ac69839",
   "metadata": {},
   "outputs": [],
   "source": []
  },
  {
   "cell_type": "markdown",
   "id": "d94ee430",
   "metadata": {},
   "source": [
    "```Julia\n",
    "Pkg.add(\"BenchmarkTools\")\n",
    "\n",
    "Pkg.add(\"DecisionTree\")\n",
    "Pkg.add(\"ScikitLearn\")\n",
    "\n",
    "Pkg.add(\"MLJ\")\n",
    "Pkg.add(\"LIBSVM\")\n",
    "Pkg.add(\"MLJModels\")\n",
    "\n",
    "Pkg.add(\"MLJScikitLearnInterface\")\n",
    "```"
   ]
  }
 ],
 "metadata": {
  "kernelspec": {
   "display_name": "Julia 1.7.2",
   "language": "julia",
   "name": "julia-1.7"
  },
  "language_info": {
   "file_extension": ".jl",
   "mimetype": "application/julia",
   "name": "julia",
   "version": "1.7.2"
  }
 },
 "nbformat": 4,
 "nbformat_minor": 5
}
